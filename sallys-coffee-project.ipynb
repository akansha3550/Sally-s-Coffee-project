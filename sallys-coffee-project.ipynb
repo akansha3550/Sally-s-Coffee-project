{
 "cells": [
  {
   "cell_type": "markdown",
   "id": "9744258b-f692-43dc-af4c-fe0842c7a5fe",
   "metadata": {},
   "source": [
    "# Sally’s Coffee Sales and Survey Analysis\n",
    "\n",
    "The primary objective of this project is to analyze sales data and survey results to uncover actionable insights that can guide Sally’s Coffee in improving profitability, enhancing product offerings, and addressing operational challenges."
   ]
  },
  {
   "cell_type": "code",
   "execution_count": 31,
   "id": "c85b5085-f205-441c-a235-64980549063d",
   "metadata": {},
   "outputs": [
    {
     "name": "stdout",
     "output_type": "stream",
     "text": [
      "/home/jovyan/work\n",
      "/home/jovyan/work\n"
     ]
    }
   ],
   "source": [
    "import os\n",
    "print(os.getcwd())\n",
    "\n",
    "os.chdir('/home/jovyan/work')  # Replace with your directory path\n",
    "print(os.getcwd())  # Verify the change"
   ]
  },
  {
   "cell_type": "code",
   "execution_count": 32,
   "id": "d12a3363-30a5-4fea-b441-2c4ce5d18ebd",
   "metadata": {},
   "outputs": [
    {
     "name": "stdout",
     "output_type": "stream",
     "text": [
      "     zip  Sales (in USD)  Year\n",
      "0  11354   185591.475000  2024\n",
      "1  10583   115220.757600  2024\n",
      "2  60120     2165.544225  2024\n",
      "3  98374      963.335100  2024\n",
      "4  75087     1124.603025  2024\n"
     ]
    }
   ],
   "source": [
    "import pandas as pd\n",
    "\n",
    "# Load the datasets\n",
    "sales_data = pd.read_excel(\"sales_py.xlsx\")\n",
    "survey_data = pd.read_excel(\"coffee_survey_sallys_brew_2024.xlsx\")\n",
    "roast_mapping = pd.read_excel(\"roast.xlsx\")\n",
    "shipping_costs = pd.read_excel(\"shipping_costs.xlsx\")\n",
    "subscription_data = pd.read_excel(\"subscription_coffee_variety_own_compared_to_other.xlsx\")\n",
    "\n",
    "# Display the first few rows of the sales data to understand its structure\n",
    "print(sales_data.head())"
   ]
  },
  {
   "cell_type": "code",
   "execution_count": 6,
   "id": "721a4e04-403a-463b-9ebc-1538d5800df0",
   "metadata": {},
   "outputs": [
    {
     "name": "stdout",
     "output_type": "stream",
     "text": [
      "Index(['zip', 'Sales (in USD)', 'Year'], dtype='object')\n"
     ]
    }
   ],
   "source": [
    "# Display the column names of the sales data\n",
    "print(sales_data.columns)"
   ]
  },
  {
   "cell_type": "code",
   "execution_count": 7,
   "id": "00747336-3403-416f-b836-611ef760645f",
   "metadata": {},
   "outputs": [],
   "source": [
    "# Task-1 Identify 3 neighborhoods (ZIP codes) with the highest FY 2024 sales in the state of California."
   ]
  },
  {
   "cell_type": "code",
   "execution_count": 8,
   "id": "ab87267a-a790-4d9a-9788-01217262025e",
   "metadata": {},
   "outputs": [
    {
     "name": "stdout",
     "output_type": "stream",
     "text": [
      "     zip  Sales (in USD)\n",
      "31  2860    496234.37630\n",
      "39  2895    449252.24435\n",
      "45  2909    443694.28935\n"
     ]
    }
   ],
   "source": [
    "# Group by ZIP code and sum the sales\n",
    "top_zip_codes = sales_data.groupby('zip')['Sales (in USD)'].sum().reset_index()\n",
    "\n",
    "# Sort the results to get the top 3 ZIP codes\n",
    "top_3_zip_codes = top_zip_codes.sort_values(by='Sales (in USD)', ascending=False).head(3)\n",
    "\n",
    "# Display the top 3 ZIP codes with their sales\n",
    "print(top_3_zip_codes)"
   ]
  },
  {
   "cell_type": "code",
   "execution_count": 9,
   "id": "8093a9a1-d5dc-4182-8327-c0add15fc971",
   "metadata": {},
   "outputs": [],
   "source": [
    "# task-2 What was the average monthly coffee spend of frequent and occasional customers?"
   ]
  },
  {
   "cell_type": "code",
   "execution_count": 10,
   "id": "dda9a55c-8f85-49aa-87e0-9abf936a4e4a",
   "metadata": {},
   "outputs": [
    {
     "name": "stdout",
     "output_type": "stream",
     "text": [
      "     F1 Submission ID What is your age?  \\\n",
      "0  3956        BG0pZK   25-34 years old   \n",
      "1  3325        GrY6JZ   25-34 years old   \n",
      "2  3646        VZovVj   25-34 years old   \n",
      "3  1170        DVv685   25-34 years old   \n",
      "4  3978        9d4vR4   25-34 years old   \n",
      "\n",
      "  How many cups of coffee do you typically drink per day?  \\\n",
      "0                                                  1        \n",
      "1                                                  3        \n",
      "2                                        Less than 1        \n",
      "3                                                  2        \n",
      "4                                                  2        \n",
      "\n",
      "  Where do you typically drink coffee? Choice_nr_1  \\\n",
      "0                                          At home   \n",
      "1                                          At home   \n",
      "2                                          At home   \n",
      "3                                          At home   \n",
      "4                                              NaN   \n",
      "\n",
      "  Where do you typically drink coffee? Choice_nr_2  Column 0  \\\n",
      "0                                              NaN       NaN   \n",
      "1                                              NaN       NaN   \n",
      "2                                              NaN       NaN   \n",
      "3                                              NaN       NaN   \n",
      "4                                              NaN       NaN   \n",
      "\n",
      "  How do you brew coffee at home?1 coffee_accessories coffee_shop_preference  \\\n",
      "0                        Pour over   Espresso Machine                  Local   \n",
      "1                        Pour over             Kettle            Independent   \n",
      "2                            Other     Coffee Grinder              Specialty   \n",
      "3                     French press     Coffee Grinder                  Local   \n",
      "4                        Pour over   Espresso Machine              Specialty   \n",
      "\n",
      "   ...   Ethnicity/Race Ethnicity/Race (please specify)   Employment Status  \\\n",
      "0  ...  White/Caucasian                             NaN  Employed full-time   \n",
      "1  ...  White/Caucasian                             NaN  Employed full-time   \n",
      "2  ...              NaN                             NaN                 NaN   \n",
      "3  ...  White/Caucasian                             NaN  Employed full-time   \n",
      "4  ...              NaN                             NaN                 NaN   \n",
      "\n",
      "  Number of Children Political Affiliation coffee_subscription  \\\n",
      "0                  1        No affiliation                True   \n",
      "1                NaN              Democrat                True   \n",
      "2                NaN                   NaN                True   \n",
      "3                NaN              Democrat                True   \n",
      "4                NaN                   NaN                True   \n",
      "\n",
      "  Subscription - majority roast ZipCodes  discounts  Column1  \n",
      "0          Subscription - Light    11215        Yes      NaN  \n",
      "1         Subscription - Nordic    11215        NaN      NaN  \n",
      "2         Subscription - Medium    11215        Yes      NaN  \n",
      "3          Subscription - Light    11215         No      NaN  \n",
      "4         Subscription - Medium    11215         No      NaN  \n",
      "\n",
      "[5 rows x 55 columns]\n"
     ]
    }
   ],
   "source": [
    "# Display the first few rows of the survey data to understand its structure\n",
    "print(survey_data.head())"
   ]
  },
  {
   "cell_type": "code",
   "execution_count": 11,
   "id": "bcefd0bf-528a-4632-8c29-fdda73413896",
   "metadata": {},
   "outputs": [
    {
     "name": "stdout",
     "output_type": "stream",
     "text": [
      "  How many cups of coffee do you typically drink per day? Customer Type\n",
      "0                                                  1         Occasional\n",
      "1                                                  3           Frequent\n",
      "2                                        Less than 1         Occasional\n",
      "3                                                  2           Frequent\n",
      "4                                                  2           Frequent\n"
     ]
    }
   ],
   "source": [
    "# Define a function to classify customers\n",
    "def classify_customer(row):\n",
    "    if row['How many cups of coffee do you typically drink per day?'] in ['2', '3', '4', '5', '6', '7', '8', '9', '10']:\n",
    "        return 'Frequent'\n",
    "    elif row['How many cups of coffee do you typically drink per day?'] in ['Less than 1', '1']:\n",
    "        return 'Occasional'\n",
    "    else:\n",
    "        return 'Unknown'  # For any other cases\n",
    "\n",
    "# Apply the function to create a new column\n",
    "survey_data['Customer Type'] = survey_data.apply(classify_customer, axis=1)\n",
    "\n",
    "# Display the updated survey data with the new column\n",
    "print(survey_data[['How many cups of coffee do you typically drink per day?', 'Customer Type']].head())"
   ]
  },
  {
   "cell_type": "code",
   "execution_count": 12,
   "id": "82a72bfd-6333-4314-9319-f38a6ed67bf4",
   "metadata": {},
   "outputs": [
    {
     "name": "stdout",
     "output_type": "stream",
     "text": [
      "Index(['F1', 'Submission ID', 'What is your age?',\n",
      "       'How many cups of coffee do you typically drink per day?',\n",
      "       'Where do you typically drink coffee? Choice_nr_1',\n",
      "       'Where do you typically drink coffee? Choice_nr_2', 'Column 0',\n",
      "       'How do you brew coffee at home?1', 'coffee_accessories',\n",
      "       'coffee_shop_preference',\n",
      "       'On the go, where do you typically purchase coffee?1',\n",
      "       'Where else do you purchase coffee?',\n",
      "       'What is your favorite coffee drink?',\n",
      "       'Please specify what your favorite coffee drink is',\n",
      "       'Do you usually add anything to your coffee?1',\n",
      "       'What kind of dairy do you add?1',\n",
      "       'What else do you add to your coffee?',\n",
      "       'What kind of sugar or sweetener do you add?1',\n",
      "       'What kind of flavorings do you add?1',\n",
      "       'What other flavoring do you use?',\n",
      "       'Before today's tasting, which of the following best described what kind of coffee you like?',\n",
      "       'How strong do you like your coffee?',\n",
      "       'What roast level of coffee do you prefer?', 'coffee_origin',\n",
      "       'How much caffeine do you like in your coffee?',\n",
      "       'Do you work from home or in person?',\n",
      "       'In total, much money do you typically spend on coffee in a month?',\n",
      "       'Why do you drink coffee?', 'Why do you drink coffee? (It tastes good)',\n",
      "       'Why do you drink coffee? (I need the caffeine)',\n",
      "       'Why do you drink coffee? (I need the ritual)',\n",
      "       'Why do you drink coffee? (It makes me go to the bathroom)',\n",
      "       'Why do you drink coffee? (Other)', 'Other reason for drinking coffee',\n",
      "       'Do you like the taste of coffee?',\n",
      "       'Do you know where your coffee comes from?',\n",
      "       'What is the most you've ever paid for a cup of coffee?',\n",
      "       'What is the most you'd ever be willing to pay for a cup of coffee?',\n",
      "       'Do you feel like you’re getting good value for your money when you buy coffee at a cafe?',\n",
      "       'Approximately how much have you spent on coffee equipment in the past 5 years?',\n",
      "       'Do you feel like you’re getting good value for your money with regards to your coffee equipment?',\n",
      "       'Lastly, how would you rate your own coffee expertise?', 'Gender',\n",
      "       'Gender (please specify)', 'Education Level', 'Ethnicity/Race',\n",
      "       'Ethnicity/Race (please specify)', 'Employment Status',\n",
      "       'Number of Children', 'Political Affiliation', 'coffee_subscription',\n",
      "       'Subscription - majority roast', 'ZipCodes', 'discounts', 'Column1',\n",
      "       'Customer Type'],\n",
      "      dtype='object')\n",
      "     F1 Submission ID What is your age?  \\\n",
      "0  3956        BG0pZK   25-34 years old   \n",
      "1  3325        GrY6JZ   25-34 years old   \n",
      "2  3646        VZovVj   25-34 years old   \n",
      "3  1170        DVv685   25-34 years old   \n",
      "4  3978        9d4vR4   25-34 years old   \n",
      "\n",
      "  How many cups of coffee do you typically drink per day?  \\\n",
      "0                                                  1        \n",
      "1                                                  3        \n",
      "2                                        Less than 1        \n",
      "3                                                  2        \n",
      "4                                                  2        \n",
      "\n",
      "  Where do you typically drink coffee? Choice_nr_1  \\\n",
      "0                                          At home   \n",
      "1                                          At home   \n",
      "2                                          At home   \n",
      "3                                          At home   \n",
      "4                                              NaN   \n",
      "\n",
      "  Where do you typically drink coffee? Choice_nr_2  Column 0  \\\n",
      "0                                              NaN       NaN   \n",
      "1                                              NaN       NaN   \n",
      "2                                              NaN       NaN   \n",
      "3                                              NaN       NaN   \n",
      "4                                              NaN       NaN   \n",
      "\n",
      "  How do you brew coffee at home?1 coffee_accessories coffee_shop_preference  \\\n",
      "0                        Pour over   Espresso Machine                  Local   \n",
      "1                        Pour over             Kettle            Independent   \n",
      "2                            Other     Coffee Grinder              Specialty   \n",
      "3                     French press     Coffee Grinder                  Local   \n",
      "4                        Pour over   Espresso Machine              Specialty   \n",
      "\n",
      "   ... Ethnicity/Race (please specify)   Employment Status Number of Children  \\\n",
      "0  ...                             NaN  Employed full-time                  1   \n",
      "1  ...                             NaN  Employed full-time                NaN   \n",
      "2  ...                             NaN                 NaN                NaN   \n",
      "3  ...                             NaN  Employed full-time                NaN   \n",
      "4  ...                             NaN                 NaN                NaN   \n",
      "\n",
      "  Political Affiliation coffee_subscription Subscription - majority roast  \\\n",
      "0        No affiliation                True          Subscription - Light   \n",
      "1              Democrat                True         Subscription - Nordic   \n",
      "2                   NaN                True         Subscription - Medium   \n",
      "3              Democrat                True          Subscription - Light   \n",
      "4                   NaN                True         Subscription - Medium   \n",
      "\n",
      "  ZipCodes discounts  Column1  Customer Type  \n",
      "0    11215       Yes      NaN     Occasional  \n",
      "1    11215       NaN      NaN       Frequent  \n",
      "2    11215       Yes      NaN     Occasional  \n",
      "3    11215        No      NaN       Frequent  \n",
      "4    11215        No      NaN       Frequent  \n",
      "\n",
      "[5 rows x 56 columns]\n"
     ]
    }
   ],
   "source": [
    "# Display the column names of the survey data\n",
    "print(survey_data.columns)\n",
    "\n",
    "# Display the first few rows of the survey data to identify any potential spending-related columns\n",
    "print(survey_data.head())"
   ]
  },
  {
   "cell_type": "code",
   "execution_count": 13,
   "id": "a060ed9e-1aaa-474e-abe5-f093efb38201",
   "metadata": {},
   "outputs": [
    {
     "name": "stdout",
     "output_type": "stream",
     "text": [
      "Cleaned 'In total, much money do you typically spend on coffee in a month?' column:\n",
      "0    30.0\n",
      "1    90.0\n",
      "3    70.0\n",
      "5    10.0\n",
      "6    10.0\n",
      "Name: In total, much money do you typically spend on coffee in a month?, dtype: float64\n",
      "Average monthly coffee spend for frequent customers: $52.62\n",
      "Average monthly coffee spend for occasional customers: $42.69\n"
     ]
    }
   ],
   "source": [
    "import pandas as pd\n",
    "import numpy as np\n",
    "\n",
    "# Step 1: Load the Survey Data 2024 dataset\n",
    "survey_data = pd.read_excel(\"coffee_survey_sallys_brew_2024.xlsx\")\n",
    "\n",
    "# Step 2: Convert the 'How many cups of coffee do you typically drink per day?' column to numeric\n",
    "# Use errors='coerce' to convert non-numeric values to NaN\n",
    "survey_data['How many cups of coffee do you typically drink per day?'] = pd.to_numeric(\n",
    "    survey_data['How many cups of coffee do you typically drink per day?'], errors='coerce'\n",
    ")\n",
    "\n",
    "# Drop rows with NaN values in the 'How many cups of coffee do you typically drink per day?' column\n",
    "survey_data = survey_data.dropna(subset=['How many cups of coffee do you typically drink per day?'])\n",
    "\n",
    "# Step 3: Clean and convert the 'In total, much money do you typically spend on coffee in a month?' column to numeric\n",
    "def clean_and_convert(value):\n",
    "    if isinstance(value, str):\n",
    "        # Handle empty strings\n",
    "        if value.strip() == '':\n",
    "            return np.nan\n",
    "# Handle ranges like '$20-$40' by taking the average\n",
    "        if '-' in value:\n",
    "            parts = value.replace('$', '').split('-')\n",
    "            try:\n",
    "                return (float(parts[0]) + float(parts[1])) / 2\n",
    "            except (ValueError, IndexError):\n",
    "                return np.nan\n",
    "        # Handle values like '<$20' by replacing them with a fixed value (e.g., 10)\n",
    "        if '<' in value:\n",
    "            try:\n",
    "                return float(value.replace('$', '').replace('<', '')) / 2\n",
    "            except ValueError:\n",
    "                return np.nan\n",
    "        # Remove non-numeric characters (e.g., '$')\n",
    "        value = value.replace('$', '').strip()\n",
    "        try:\n",
    "            return float(value)\n",
    "        except ValueError:\n",
    "            return np.nan\n",
    "    return value\n",
    "\n",
    "# Apply the cleaning function to the column\n",
    "survey_data['In total, much money do you typically spend on coffee in a month?'] = (\n",
    "    survey_data['In total, much money do you typically spend on coffee in a month?']\n",
    "    .apply(clean_and_convert)\n",
    ")\n",
    "\n",
    "# Drop rows with NaN values in the 'In total, much money do you typically spend on coffee in a month?' column\n",
    "survey_data = survey_data.dropna(subset=['In total, much money do you typically spend on coffee in a month?'])\n",
    "\n",
    "# Step 4: Verify the cleaned data\n",
    "print(\"Cleaned 'In total, much money do you typically spend on coffee in a month?' column:\")\n",
    "print(survey_data['In total, much money do you typically spend on coffee in a month?'].head())\n",
    "# Step 5: Classify customers as frequent or occasional\n",
    "# Frequent customers: Drink 3 or more cups per day\n",
    "frequent_customers = survey_data[survey_data['How many cups of coffee do you typically drink per day?'] >= 3]\n",
    "# Occasional customers: Drink less than 3 cups per day\n",
    "occasional_customers = survey_data[survey_data['How many cups of coffee do you typically drink per day?'] < 3]\n",
    "\n",
    "# Step 6: Calculate the average monthly coffee spend for each group\n",
    "avg_spend_frequent = frequent_customers['In total, much money do you typically spend on coffee in a month?'].mean()\n",
    "avg_spend_occasional = occasional_customers['In total, much money do you typically spend on coffee in a month?'].mean()\n",
    "\n",
    "# Display the results\n",
    "print(\"Average monthly coffee spend for frequent customers: ${:.2f}\".format(avg_spend_frequent))\n",
    "print(\"Average monthly coffee spend for occasional customers: ${:.2f}\".format(avg_spend_occasional))"
   ]
  },
  {
   "cell_type": "code",
   "execution_count": 14,
   "id": "a9c21f17-d3ad-4348-8ca8-34aded244fd8",
   "metadata": {},
   "outputs": [],
   "source": [
    "# Task 3: List Top 3 States with “Very High” Shipping Costs"
   ]
  },
  {
   "cell_type": "code",
   "execution_count": 15,
   "id": "34f7ef8f-4217-48c2-81a1-c6d14f6eed2d",
   "metadata": {},
   "outputs": [
    {
     "name": "stdout",
     "output_type": "stream",
     "text": [
      "           State Shipping_Cost_Category\n",
      "0    Connecticut              Very High\n",
      "1          Maine              Very High\n",
      "2  Massachusetts              Very High\n",
      "3  New Hampshire              Very High\n",
      "4   Rhode Island              Very High\n"
     ]
    }
   ],
   "source": [
    "# Load the shipping costs data\n",
    "shipping_costs_data = pd.read_excel(\"shipping_costs.xlsx\")\n",
    "\n",
    "# Display the first few rows of the shipping costs data to understand its structure\n",
    "print(shipping_costs_data.head())"
   ]
  },
  {
   "cell_type": "code",
   "execution_count": 16,
   "id": "44250d03-4b1e-4d10-93eb-c59beded9541",
   "metadata": {},
   "outputs": [
    {
     "name": "stdout",
     "output_type": "stream",
     "text": [
      "First few rows of the merged data:\n",
      "     zip       State Shipping_Cost_Category  Sales (in USD)\n",
      "0  11354    New York              Very High   185591.475000\n",
      "1  10583    New York              Very High   115220.757600\n",
      "2  60120    Illinois                   High     2165.544225\n",
      "3  98374  Washington                    Low      963.335100\n",
      "4  75087       Texas                 Medium     1124.603025\n",
      "\n",
      "Top 3 states with 'Very High' shipping cost category based on annual sales:\n",
      "      State  Sales (in USD)\n",
      "0  New York     300812.2326\n",
      "\n",
      "Overall percentage of sales coming from states with 'Very High' shipping costs: 0.86%\n"
     ]
    }
   ],
   "source": [
    "import pandas as pd\n",
    "\n",
    "# Step 1: Load the datasets\n",
    "sales_data = pd.read_excel(\"sales_py.xlsx\")  # Sales Data\n",
    "shipping_data = pd.read_excel(\"shipping_costs.xlsx\")  # Shipping Costs\n",
    "\n",
    "# Step 2: Manually map ZIP codes to states\n",
    "# Create a dictionary to map ZIP codes to states\n",
    "zip_to_state = {\n",
    "    11354: 'NY',  # Example ZIP code for New York\n",
    "    10583: 'NY',  # Example ZIP code for New York\n",
    "    60120: 'IL',  # Example ZIP code for Illinois\n",
    "    98374: 'WA',  # Example ZIP code for Washington\n",
    "    75087: 'TX',  # Example ZIP code for Texas\n",
    "    # Add more mappings as needed\n",
    "}\n",
    "\n",
    "# Add a 'State' column to sales_data by mapping ZIP codes to states\n",
    "sales_data['State'] = sales_data['zip'].map(zip_to_state)\n",
    "\n",
    "# Step 3: Convert state abbreviations to full state names\n",
    "state_abbr_to_name = {\n",
    "    'AL': 'Alabama',\n",
    "    'AK': 'Alaska',\n",
    "    'AZ': 'Arizona',\n",
    "    'AR': 'Arkansas',\n",
    "    'CA': 'California',\n",
    "    'CO': 'Colorado',\n",
    "    'CT': 'Connecticut',\n",
    "    'DE': 'Delaware',\n",
    "    'FL': 'Florida',\n",
    "    'GA': 'Georgia',\n",
    "    'HI': 'Hawaii',\n",
    "    'ID': 'Idaho',\n",
    "    'IL': 'Illinois',\n",
    "    'IN': 'Indiana',\n",
    "    'IA': 'Iowa',\n",
    "    'KS': 'Kansas',\n",
    "    'KY': 'Kentucky',\n",
    "    'LA': 'Louisiana',\n",
    "    'ME': 'Maine',\n",
    "    'MD': 'Maryland',\n",
    "    'MA': 'Massachusetts',\n",
    "    'MI': 'Michigan',\n",
    "    'MN': 'Minnesota',\n",
    "    'MS': 'Mississippi',\n",
    "    'MO': 'Missouri',\n",
    "    'MT': 'Montana',\n",
    "    'NE': 'Nebraska',\n",
    "    'NV': 'Nevada',\n",
    "    'NH': 'New Hampshire',\n",
    "    'NJ': 'New Jersey',\n",
    "    'NM': 'New Mexico',\n",
    "    'NY': 'New York',\n",
    "    'NC': 'North Carolina',\n",
    "    'ND': 'North Dakota',\n",
    "    'OH': 'Ohio',\n",
    "    'OK': 'Oklahoma',\n",
    "    'OR': 'Oregon',\n",
    "    'PA': 'Pennsylvania',\n",
    "    'RI': 'Rhode Island',\n",
    "    'SC': 'South Carolina',\n",
    "    'SD': 'South Dakota',\n",
    "    'TN': 'Tennessee',\n",
    "    'TX': 'Texas',\n",
    "    'UT': 'Utah',\n",
    "    'VT': 'Vermont',\n",
    "    'VA': 'Virginia',\n",
    "    'WA': 'Washington',\n",
    "    'WV': 'West Virginia',\n",
    "     'WI': 'Wisconsin',\n",
    "    'WY': 'Wyoming'\n",
    "}\n",
    "\n",
    "# Convert state abbreviations to full state names\n",
    "sales_data['State'] = sales_data['State'].map(state_abbr_to_name)\n",
    "\n",
    "# Step 4: Merge sales_data with shipping_data on 'State'\n",
    "merged_data = pd.merge(sales_data, shipping_data, on='State', how='left')\n",
    "\n",
    "# Debugging: Inspect the merged data\n",
    "print(\"First few rows of the merged data:\")\n",
    "print(merged_data[['zip', 'State', 'Shipping_Cost_Category', 'Sales (in USD)']].head())\n",
    "\n",
    "# Step 5: Filter the merged data to include only rows where the shipping cost category is \"Very High\"\n",
    "very_high_shipping = merged_data[merged_data['Shipping_Cost_Category'] == 'Very High']\n",
    "\n",
    "# Step 6: Group the filtered data by state and calculate the total sales revenue for each state\n",
    "state_sales = very_high_shipping.groupby('State')['Sales (in USD)'].sum().reset_index()\n",
    "\n",
    "# Step 7: Sort the data in descending order of sales revenue and extract the top 3 states\n",
    "top_3_states = state_sales.sort_values(by='Sales (in USD)', ascending=False).head(3)\n",
    "\n",
    "# Step 8: Calculate the overall percentage of sales coming from states with \"Very High\" shipping costs\n",
    "total_sales = sales_data['Sales (in USD)'].sum()\n",
    "very_high_sales = very_high_shipping['Sales (in USD)'].sum()\n",
    "percentage_very_high = (very_high_sales / total_sales) * 100\n",
    "\n",
    "# Display the results\n",
    "print(\"\\nTop 3 states with 'Very High' shipping cost category based on annual sales:\")\n",
    "print(top_3_states)\n",
    "print(\"\\nOverall percentage of sales coming from states with 'Very High' shipping costs: {:.2f}%\".format(percentage_very_high))"
   ]
  },
  {
   "cell_type": "code",
   "execution_count": 17,
   "id": "211c9d86-e47b-4be3-9163-e7f16dd598eb",
   "metadata": {},
   "outputs": [],
   "source": [
    "# Task 4: Identify Neighborhood with Highest Share of Coffee Drinkers Willing to Spend $10 or More"
   ]
  },
  {
   "cell_type": "code",
   "execution_count": 18,
   "id": "7719e0a4-af83-4862-aac4-898f17f6b451",
   "metadata": {},
   "outputs": [
    {
     "name": "stdout",
     "output_type": "stream",
     "text": [
      "Index(['F1', 'Submission ID', 'What is your age?',\n",
      "       'How many cups of coffee do you typically drink per day?',\n",
      "       'Where do you typically drink coffee? Choice_nr_1',\n",
      "       'Where do you typically drink coffee? Choice_nr_2', 'Column 0',\n",
      "       'How do you brew coffee at home?1', 'coffee_accessories',\n",
      "       'coffee_shop_preference',\n",
      "       'On the go, where do you typically purchase coffee?1',\n",
      "       'Where else do you purchase coffee?',\n",
      "       'What is your favorite coffee drink?',\n",
      "       'Please specify what your favorite coffee drink is',\n",
      "       'Do you usually add anything to your coffee?1',\n",
      "       'What kind of dairy do you add?1',\n",
      "       'What else do you add to your coffee?',\n",
      "       'What kind of sugar or sweetener do you add?1',\n",
      "       'What kind of flavorings do you add?1',\n",
      "       'What other flavoring do you use?',\n",
      "       'Before today's tasting, which of the following best described what kind of coffee you like?',\n",
      "       'How strong do you like your coffee?',\n",
      "       'What roast level of coffee do you prefer?', 'coffee_origin',\n",
      "       'How much caffeine do you like in your coffee?',\n",
      "       'Do you work from home or in person?',\n",
      "       'In total, much money do you typically spend on coffee in a month?',\n",
      "       'Why do you drink coffee?', 'Why do you drink coffee? (It tastes good)',\n",
      "       'Why do you drink coffee? (I need the caffeine)',\n",
      "       'Why do you drink coffee? (I need the ritual)',\n",
      "       'Why do you drink coffee? (It makes me go to the bathroom)',\n",
      "       'Why do you drink coffee? (Other)', 'Other reason for drinking coffee',\n",
      "       'Do you like the taste of coffee?',\n",
      "       'Do you know where your coffee comes from?',\n",
      "       'What is the most you've ever paid for a cup of coffee?',\n",
      "       'What is the most you'd ever be willing to pay for a cup of coffee?',\n",
      "       'Do you feel like you’re getting good value for your money when you buy coffee at a cafe?',\n",
      "       'Approximately how much have you spent on coffee equipment in the past 5 years?',\n",
      "       'Do you feel like you’re getting good value for your money with regards to your coffee equipment?',\n",
      "       'Lastly, how would you rate your own coffee expertise?', 'Gender',\n",
      "       'Gender (please specify)', 'Education Level', 'Ethnicity/Race',\n",
      "       'Ethnicity/Race (please specify)', 'Employment Status',\n",
      "       'Number of Children', 'Political Affiliation', 'coffee_subscription',\n",
      "       'Subscription - majority roast', 'ZipCodes', 'discounts', 'Column1'],\n",
      "      dtype='object')\n"
     ]
    }
   ],
   "source": [
    "# Display the column names of the survey data\n",
    "print(survey_data.columns)"
   ]
  },
  {
   "cell_type": "code",
   "execution_count": 19,
   "id": "d8a39e3e-642f-4222-8866-67624a82c685",
   "metadata": {},
   "outputs": [
    {
     "name": "stdout",
     "output_type": "stream",
     "text": [
      "Neighborhood with the highest share of coffee drinkers willing to spend $10 or more:\n",
      "ZipCodes                 2860\n",
      "sum                         0\n",
      "count                      13\n",
      "Share                     0.0\n",
      "zip                      2860\n",
      "Sales (in USD)    496234.3763\n",
      "Year                     2024\n",
      "State                     NaN\n",
      "Name: 0, dtype: object\n"
     ]
    }
   ],
   "source": [
    "# Step 1: Filter the survey data for respondents willing to spend $10 or more\n",
    "# Convert the relevant column to numeric, forcing errors to NaN\n",
    "survey_data['Willing to Spend $10 or More'] = pd.to_numeric(survey_data['What is the most you\\'d ever be willing to pay for a cup of coffee?'], errors='coerce')\n",
    "\n",
    "# Create a boolean column indicating willingness to spend $10 or more\n",
    "survey_data['Willing to Spend $10 or More'] = survey_data['Willing to Spend $10 or More'] >= 10\n",
    "\n",
    "# Step 2: Count the number of respondents per neighborhood (ZIP code)\n",
    "neighborhood_counts = survey_data.groupby('ZipCodes')['Willing to Spend $10 or More'].agg(['sum', 'count']).reset_index()\n",
    "\n",
    "# Step 3: Calculate the share of respondents willing to spend $10 or more\n",
    "neighborhood_counts['Share'] = neighborhood_counts['sum'] / neighborhood_counts['count']\n",
    "\n",
    "# Step 4: Merge with sales data to filter neighborhoods with sales >= $150,000\n",
    "sales_data_filtered = sales_data[sales_data['Sales (in USD)'] >= 150000]\n",
    "neighborhood_counts = pd.merge(neighborhood_counts, sales_data_filtered, left_on='ZipCodes', right_on='zip', how='inner')\n",
    "\n",
    "# Step 5: Identify the neighborhood with the highest share\n",
    "highest_share_neighborhood = neighborhood_counts.loc[neighborhood_counts['Share'].idxmax()]\n",
    "\n",
    "# Display the results\n",
    "print(\"Neighborhood with the highest share of coffee drinkers willing to spend $10 or more:\")\n",
    "print(highest_share_neighborhood)"
   ]
  },
  {
   "cell_type": "code",
   "execution_count": 20,
   "id": "35bca031-32d2-4461-bb31-f5b609e33425",
   "metadata": {},
   "outputs": [],
   "source": [
    "# Task 5: Determine the Number of Respondents Who Prefer Light Roast Coffee"
   ]
  },
  {
   "cell_type": "code",
   "execution_count": 21,
   "id": "290bc922-b77c-43c7-a950-79b79ed15c2b",
   "metadata": {},
   "outputs": [
    {
     "name": "stdout",
     "output_type": "stream",
     "text": [
      "Number of respondents who prefer light roast coffee: 1425\n"
     ]
    }
   ],
   "source": [
    "# Step 1: Filter the survey data for respondents who prefer light roast coffee\n",
    "# Assuming there is a column indicating roast preference\n",
    "# The relevant column appears to be 'What roast level of coffee do you prefer?'\n",
    "\n",
    "# Convert the relevant column to string to avoid any issues with data types\n",
    "survey_data['What roast level of coffee do you prefer?'] = survey_data['What roast level of coffee do you prefer?'].astype(str)\n",
    "\n",
    "# Count the number of respondents who prefer light roast coffee\n",
    "light_roast_count = survey_data[survey_data['What roast level of coffee do you prefer?'].str.contains('Light', case=False, na=False)].shape[0]\n",
    "\n",
    "# Display the result\n",
    "print(f\"Number of respondents who prefer light roast coffee: {light_roast_count}\")"
   ]
  },
  {
   "cell_type": "code",
   "execution_count": 22,
   "id": "d969f294-4442-409d-9b1a-f28d081a6fa7",
   "metadata": {},
   "outputs": [],
   "source": [
    "# Task 6: Visualize Survey Results"
   ]
  },
  {
   "cell_type": "code",
   "execution_count": 23,
   "id": "97ab5ee8-6127-4900-b00e-a4d063ba2305",
   "metadata": {},
   "outputs": [
    {
     "name": "stderr",
     "output_type": "stream",
     "text": [
      "/tmp/ipykernel_167/928158517.py:10: FutureWarning: \n",
      "\n",
      "Passing `palette` without assigning `hue` is deprecated and will be removed in v0.14.0. Assign the `x` variable to `hue` and set `legend=False` for the same effect.\n",
      "\n",
      "  sns.barplot(x=roast_preferences.index, y=roast_preferences.values, palette='viridis')\n"
     ]
    },
    {
     "data": {
      "image/png": "[encoded data removed]",
      "text/plain": [
       "<Figure size 1000x600 with 1 Axes>"
      ]
     },
     "metadata": {},
     "output_type": "display_data"
    }
   ],
   "source": [
    "# Step 1: Visualize Coffee Roast Preferences\n",
    "import matplotlib.pyplot as plt\n",
    "import seaborn as sns\n",
    "\n",
    "# Step 1: Count preferences for each roast level\n",
    "roast_preferences = survey_data['What roast level of coffee do you prefer?'].value_counts()\n",
    "\n",
    "# Step 2: Create a bar plot for roast preferences\n",
    "plt.figure(figsize=(10, 6))\n",
    "sns.barplot(x=roast_preferences.index, y=roast_preferences.values, palette='viridis')\n",
    "plt.title('Coffee Roast Preferences')\n",
    "plt.xlabel('Roast Level')\n",
    "plt.ylabel('Number of Respondents')\n",
    "plt.xticks(rotation=45)\n",
    "plt.show()"
   ]
  },
  {
   "cell_type": "code",
   "execution_count": 24,
   "id": "0ea742bc-a6a9-457c-8935-57940bdd5ea2",
   "metadata": {},
   "outputs": [
    {
     "data": {
      "image/png": "[encoded data removed]",
      "text/plain": [
       "<Figure size 800x800 with 1 Axes>"
      ]
     },
     "metadata": {},
     "output_type": "display_data"
    }
   ],
   "source": [
    "# Visualize Willingness to Spend $10 or More\n",
    "# Step 1: Count the number of respondents willing to spend $10 or more\n",
    "willing_to_spend = survey_data['Willing to Spend $10 or More'].value_counts()\n",
    "\n",
    "# Step 2: Create a pie chart for willingness to spend\n",
    "plt.figure(figsize=(8, 8))\n",
    "plt.pie(willing_to_spend, labels=willing_to_spend.index, autopct='%1.1f%%', startangle=90, colors=['lightblue', 'lightcoral'])\n",
    "plt.title('Willingness to Spend $10 or More on Coffee')\n",
    "plt.axis('equal')  # Equal aspect ratio ensures that pie chart is circular.\n",
    "plt.show()"
   ]
  },
  {
   "cell_type": "code",
   "execution_count": 25,
   "id": "55b36979-63da-4527-a45b-75b519b94c5b",
   "metadata": {},
   "outputs": [],
   "source": [
    "# Task 7: Analyze Sales Data"
   ]
  },
  {
   "cell_type": "code",
   "execution_count": 26,
   "id": "44eeb299-6078-4fa9-8b4a-061aa5e427f7",
   "metadata": {},
   "outputs": [
    {
     "name": "stdout",
     "output_type": "stream",
     "text": [
      "     zip  Sales (in USD)  Year\n",
      "0  11354   185591.475000  2024\n",
      "1  10583   115220.757600  2024\n",
      "2  60120     2165.544225  2024\n",
      "3  98374      963.335100  2024\n",
      "4  75087     1124.603025  2024\n"
     ]
    }
   ],
   "source": [
    "# Load the sales data\n",
    "sales_data = pd.read_excel(\"sales_py.xlsx\")  # Replace with the actual file name if different\n",
    "\n",
    "# Display the first few rows of the sales data\n",
    "print(sales_data.head())"
   ]
  },
  {
   "cell_type": "code",
   "execution_count": 27,
   "id": "a1c480fd-f2c8-4552-855f-0cc0f3350c5c",
   "metadata": {},
   "outputs": [
    {
     "name": "stdout",
     "output_type": "stream",
     "text": [
      "Top 10 ZIP Codes by Sales:\n",
      "       zip  Sales (in USD)\n",
      "31    2860    496234.37630\n",
      "39    2895    449252.24435\n",
      "45    2909    443694.28935\n",
      "195  11368    392070.15000\n",
      "168  11208    376172.67000\n",
      "147  10467    343260.82500\n",
      "138  10314    328103.10000\n",
      "176  11220    323417.98500\n",
      "177  11221    317253.36000\n",
      "181  11230    313815.67500\n"
     ]
    }
   ],
   "source": [
    "# Step 1: Group sales data by ZIP code and calculate total sales\n",
    "sales_by_zip = sales_data.groupby('zip')['Sales (in USD)'].sum().reset_index()\n",
    "\n",
    "# Step 2: Sort the results to find the top ZIP codes by sales\n",
    "top_sales_by_zip = sales_by_zip.sort_values(by='Sales (in USD)', ascending=False)\n",
    "\n",
    "# Display the top 10 ZIP codes by sales\n",
    "print(\"Top 10 ZIP Codes by Sales:\")\n",
    "print(top_sales_by_zip.head(10))"
   ]
  },
  {
   "cell_type": "code",
   "execution_count": 28,
   "id": "2d786925-df22-4591-abdb-be4769e408ab",
   "metadata": {},
   "outputs": [
    {
     "name": "stderr",
     "output_type": "stream",
     "text": [
      "/tmp/ipykernel_167/3393923373.py:9: FutureWarning: \n",
      "\n",
      "Passing `palette` without assigning `hue` is deprecated and will be removed in v0.14.0. Assign the `x` variable to `hue` and set `legend=False` for the same effect.\n",
      "\n",
      "  sns.barplot(x='zip', y='Sales (in USD)', data=top_sales_by_zip.head(10), palette='viridis')\n"
     ]
    },
    {
     "data": {
      "image/png": "[encoded data removed]",
      "text/plain": [
       "<Figure size 1200x600 with 1 Axes>"
      ]
     },
     "metadata": {},
     "output_type": "display_data"
    }
   ],
   "source": [
    "# Step 1: Group sales data by ZIP code and calculate total sales\n",
    "sales_by_zip = sales_data.groupby('zip')['Sales (in USD)'].sum().reset_index()\n",
    "\n",
    "# Step 2: Sort the results to find the top ZIP codes by sales\n",
    "top_sales_by_zip = sales_by_zip.sort_values(by='Sales (in USD)', ascending=False)\n",
    "\n",
    "# Step 3: Create a bar plot for sales by ZIP code\n",
    "plt.figure(figsize=(12, 6))\n",
    "sns.barplot(x='zip', y='Sales (in USD)', data=top_sales_by_zip.head(10), palette='viridis')\n",
    "plt.title('Top 10 ZIP Codes by Sales')\n",
    "plt.xlabel('ZIP Code')\n",
    "plt.ylabel('Sales (in USD)')\n",
    "plt.xticks(rotation=45)\n",
    "plt.show()"
   ]
  },
  {
   "cell_type": "markdown",
   "id": "308bf348-6848-4bda-9d97-029344d12993",
   "metadata": {},
   "source": [
    "# Recommendation tasks - optional:"
   ]
  },
  {
   "cell_type": "markdown",
   "id": "32b1c241-1943-47fa-bf8a-38c835ffe314",
   "metadata": {},
   "source": [
    "# 1.How can Sally’s Coffee resolve its issue with high shipping costs? What is the rough estimate of annual savings originating from implementation of your recommendation?\n",
    "\n",
    "Recommendations:\n",
    "Optimize Shipping Partners: Evaluate current shipping partners and negotiate better rates or consider switching to more cost-effective carriers. \n",
    "\n",
    "Regional Warehousing: Establish regional warehouses closer to high-demand areas to reduce shipping distances and costs. \n",
    "\n",
    "Minimum Order Thresholds: Encourage larger orders by offering discounts or incentives for orders above a certain threshold, which can help offset shipping costs. \n",
    "\n",
    "Shipping Fee Structure: Consider implementing a tiered shipping fee structure based on order size or distance, rather than offering free shipping for all orders over $25."
   ]
  },
  {
   "cell_type": "markdown",
   "id": "42f47487-597a-492c-9d85-418fcd9e4552",
   "metadata": {},
   "source": [
    "# 2. What actions would you recommend to increase the share of own brand (Sally’s) coffee?\r\n",
    "Recommendations:\r",
    "Marketing Campaigns: Launch targeted marketing campaigns highlighting the quality and uniqueness of Sally’s own brand coffee, leveraging customer preferences identified in the survey.\r\n",
    "\n",
    "Sampling Programs: Offer samples of the own brand coffee in high-performing ZIP code areas to encourage trial and adoption.\n",
    "\r\n",
    "Bundling Products: Create bundles that include own brand coffee with popular accessories or equipment to increase visibility and sales\n",
    ".\r\n",
    "Customer Feedback Loop: Establish a feedback loop with customers to continuously improve the own brand offerings based on preferences and trends.ds.ds."
   ]
  },
  {
   "cell_type": "markdown",
   "id": "e125c36a-31fa-4701-a316-1c2529cfe1f2",
   "metadata": {},
   "source": [
    "# 3. Should Sally’s Coffee expand into the café business? In case of a negative answer, please provide the rationale behind it. If your answer is positive, please justify your recommendation and propose strategy for the first 12-months of café business operations. How would your strategy impact mid-term and long-term profitability?\n",
    "Recommendation:\n",
    "\n",
    "Positive Expansion Justification: Given the strong sales in certain ZIP codes and the interest in coffee culture, expanding into the café business could be beneficial. \n",
    "\n",
    "12-Month Strategy:\n",
    "\n",
    "Market Research: Conduct thorough market research to identify the best locations for cafés based on sales data and customer demographics.\n",
    "\n",
    "Pilot Café: Open a pilot café in a high-performing ZIP code to test the concept and gather customer feedback. \n",
    "\n",
    "Menu Development: Develop a menu that features own brand coffee prominently, along with complementary food items.\n",
    "\n",
    "Community Engagement: Host events and tastings to engage the local community and build brand loyalty. \n",
    "\n",
    "Evaluate Performance: After 6 months, evaluate the café's performance and customer feedback to make necessary adjustments before further expansion. \n",
    "\n",
    "Conclusion These recommendations aim to enhance profitability, increase the share of own brand coffee, and strategically expand into the café business."
   ]
  },
  {
   "cell_type": "code",
   "execution_count": 29,
   "id": "0a58e5de-6ae9-4b30-8e4b-749168862be8",
   "metadata": {},
   "outputs": [
    {
     "name": "stdout",
     "output_type": "stream",
     "text": [
      "Requirement already satisfied: dash in /opt/conda/lib/python3.11/site-packages (2.18.2)\n",
      "Requirement already satisfied: Flask<3.1,>=1.0.4 in /opt/conda/lib/python3.11/site-packages (from dash) (3.0.3)\n",
      "Requirement already satisfied: Werkzeug<3.1 in /opt/conda/lib/python3.11/site-packages (from dash) (3.0.6)\n",
      "Requirement already satisfied: plotly>=5.0.0 in /opt/conda/lib/python3.11/site-packages (from dash) (6.0.0)\n",
      "Requirement already satisfied: dash-html-components==2.0.0 in /opt/conda/lib/python3.11/site-packages (from dash) (2.0.0)\n",
      "Requirement already satisfied: dash-core-components==2.0.0 in /opt/conda/lib/python3.11/site-packages (from dash) (2.0.0)\n",
      "Requirement already satisfied: dash-table==5.0.0 in /opt/conda/lib/python3.11/site-packages (from dash) (5.0.0)\n",
      "Requirement already satisfied: importlib-metadata in /opt/conda/lib/python3.11/site-packages (from dash) (6.8.0)\n",
      "Requirement already satisfied: typing-extensions>=4.1.1 in /opt/conda/lib/python3.11/site-packages (from dash) (4.8.0)\n",
      "Requirement already satisfied: requests in /opt/conda/lib/python3.11/site-packages (from dash) (2.31.0)\n",
      "Requirement already satisfied: retrying in /opt/conda/lib/python3.11/site-packages (from dash) (1.3.4)\n",
      "Requirement already satisfied: nest-asyncio in /opt/conda/lib/python3.11/site-packages (from dash) (1.5.8)\n",
      "Requirement already satisfied: setuptools in /opt/conda/lib/python3.11/site-packages (from dash) (68.2.2)\n",
      "Requirement already satisfied: Jinja2>=3.1.2 in /opt/conda/lib/python3.11/site-packages (from Flask<3.1,>=1.0.4->dash) (3.1.2)\n",
      "Requirement already satisfied: itsdangerous>=2.1.2 in /opt/conda/lib/python3.11/site-packages (from Flask<3.1,>=1.0.4->dash) (2.2.0)\n",
      "Requirement already satisfied: click>=8.1.3 in /opt/conda/lib/python3.11/site-packages (from Flask<3.1,>=1.0.4->dash) (8.1.7)\n",
      "Requirement already satisfied: blinker>=1.6.2 in /opt/conda/lib/python3.11/site-packages (from Flask<3.1,>=1.0.4->dash) (1.6.3)\n",
      "Requirement already satisfied: narwhals>=1.15.1 in /opt/conda/lib/python3.11/site-packages (from plotly>=5.0.0->dash) (1.26.0)\n",
      "Requirement already satisfied: packaging in /opt/conda/lib/python3.11/site-packages (from plotly>=5.0.0->dash) (23.2)\n",
      "Requirement already satisfied: MarkupSafe>=2.1.1 in /opt/conda/lib/python3.11/site-packages (from Werkzeug<3.1->dash) (2.1.3)\n",
      "Requirement already satisfied: zipp>=0.5 in /opt/conda/lib/python3.11/site-packages (from importlib-metadata->dash) (3.17.0)\n",
      "Requirement already satisfied: charset-normalizer<4,>=2 in /opt/conda/lib/python3.11/site-packages (from requests->dash) (3.3.0)\n",
      "Requirement already satisfied: idna<4,>=2.5 in /opt/conda/lib/python3.11/site-packages (from requests->dash) (3.4)\n",
      "Requirement already satisfied: urllib3<3,>=1.21.1 in /opt/conda/lib/python3.11/site-packages (from requests->dash) (2.0.7)\n",
      "Requirement already satisfied: certifi>=2017.4.17 in /opt/conda/lib/python3.11/site-packages (from requests->dash) (2023.7.22)\n",
      "Requirement already satisfied: six>=1.7.0 in /opt/conda/lib/python3.11/site-packages (from retrying->dash) (1.16.0)\n",
      "Note: you may need to restart the kernel to use updated packages.\n"
     ]
    }
   ],
   "source": [
    "pip install dash"
   ]
  },
  {
   "cell_type": "code",
   "execution_count": 50,
   "id": "5d4dd066-0a12-4f3d-b388-dfcab11974e6",
   "metadata": {},
   "outputs": [
    {
     "data": {
      "text/html": [
       "\n",
       "        <iframe\n",
       "            width=\"100%\"\n",
       "            height=\"650\"\n",
       "            src=\"http://0.0.0.0:8051/\"\n",
       "            frameborder=\"0\"\n",
       "            allowfullscreen\n",
       "            \n",
       "        ></iframe>\n",
       "        "
      ],
      "text/plain": [
       "<IPython.lib.display.IFrame at 0x7f7cff3c9d50>"
      ]
     },
     "metadata": {},
     "output_type": "display_data"
    }
   ],
   "source": [
    "import dash\n",
    "from dash import dcc, html\n",
    "import plotly.express as px\n",
    "import pandas as pd\n",
    "\n",
    "# sales data for ZIP codes\n",
    "top_sales_by_zip = pd.DataFrame({\n",
    "    'zip': ['2860', '2895', '2909'],\n",
    "    'Sales (in USD)': [496234.37630, 449252.24435, 443694.28935]\n",
    "})\n",
    "\n",
    "# survey data for coffee preferences\n",
    "survey_data = pd.DataFrame({\n",
    "    'Preference': ['Light', 'Medium', 'Dark'],\n",
    "    'Count': [1425, 800, 600]  # Example counts for each preference\n",
    "})\n",
    "\n",
    "# Create a pivot table for the heatmap\n",
    "heatmap_data = survey_data.pivot(index='Preference', columns='Count', values='Count').fillna(0)\n",
    "\n",
    "# Create the heatmap for survey responses\n",
    "fig_heatmap = px.imshow(\n",
    "    heatmap_data,\n",
    "    title='Coffee Preference Heatmap',\n",
    "    labels=dict(x=\"Count\", y=\"Preference\"),\n",
    "    color_continuous_scale='Blues'\n",
    ")\n",
    "\n",
    "\n",
    "time_series_data = pd.DataFrame({\n",
    "    'Date': [\n",
    "        '2024-01-01', \n",
    "        '2024-02-01', \n",
    "        '2024-03-01', \n",
    "        '2024-04-01', \n",
    "        '2024-05-01', \n",
    "        '2024-06-01'\n",
    "    ],\n",
    "    'Sales (in USD)': [\n",
    "        20000, \n",
    "        25000, \n",
    "        30000, \n",
    "        15000, \n",
    "        40000, \n",
    "        45000\n",
    "    ]\n",
    "})\n",
    "\n",
    "# Convert the 'Date' column to datetime format\n",
    "time_series_data['Date'] = pd.to_datetime(time_series_data['Date'])\n",
    "\n",
    "# Create the line chart for sales trends over time\n",
    "fig_line = px.line(\n",
    "    time_series_data,\n",
    "    x='Date',\n",
    "    y='Sales (in USD)',\n",
    "    title='Sales Trends Over Time',\n",
    "    labels={'Date': 'Date', 'Sales (in USD)': 'Sales (in USD)'}\n",
    ")\n",
    "\n",
    "# Create a Dash application\n",
    "app = dash.Dash(__name__)\n",
    "\n",
    "# Sort the data by sales for better visualization\n",
    "top_sales_by_zip = top_sales_by_zip.sort_values(by='Sales (in USD)', ascending=False)\n",
    "\n",
    "# Create the bar chart\n",
    "fig = px.bar(\n",
    "    top_sales_by_zip,\n",
    "    x='zip',\n",
    "    y='Sales (in USD)',\n",
    "    title='Top ZIP Codes by Sales',\n",
    "    labels={'zip': 'ZIP Code', 'Sales (in USD)': 'Sales (in USD)'},\n",
    "    color='Sales (in USD)', \n",
    "    color_continuous_scale=px.colors.sequential.Viridis,  \n",
    "    hover_data={'zip': True, 'Sales (in USD)': True}  \n",
    ")\n",
    "\n",
    "# Update layout \n",
    "fig.update_layout(\n",
    "    xaxis_title='ZIP Code',\n",
    "    yaxis_title='Sales (in USD)',\n",
    "    template='plotly_white',  \n",
    "    title_x=0.5  \n",
    ")\n",
    "\n",
    "# Define the layout of the app\n",
    "app.layout = html.Div(children=[\n",
    "    html.H1(children='Sally’s Coffee Dashboard'),\n",
    "    dcc.Graph(figure=fig),  # Bar chart for ZIP codes\n",
    "    dcc.Graph(figure=fig_heatmap),  # Heatmap for coffee preferences\n",
    "    dcc.Graph(figure=fig_line),  # Line chart for sales trends\n",
    "])\n",
    "\n",
    "# Run the Dash app\n",
    "if __name__ == '__main__':\n",
    "    app.run_server(debug=True, host='0.0.0.0', port=8051)"
   ]
  },
  {
   "cell_type": "code",
   "execution_count": null,
   "id": "fb104cc2-159b-49a8-88ac-3eea4d348500",
   "metadata": {},
   "outputs": [],
   "source": []
  }
 ],
 "metadata": {
  "kernelspec": {
   "display_name": "Python 3 (ipykernel)",
   "language": "python",
   "name": "python3"
  },
  "language_info": {
   "codemirror_mode": {
    "name": "ipython",
    "version": 3
   },
   "file_extension": ".py",
   "mimetype": "text/x-python",
   "name": "python",
   "nbconvert_exporter": "python",
   "pygments_lexer": "ipython3",
   "version": "3.11.6"
  }
 },
 "nbformat": 4,
 "nbformat_minor": 5
}
